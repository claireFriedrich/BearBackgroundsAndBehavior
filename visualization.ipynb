{
 "cells": [
  {
   "cell_type": "code",
   "execution_count": 1,
   "metadata": {},
   "outputs": [],
   "source": [
    "import os\n",
    "import re\n",
    "import csv\n",
    "from PIL import Image\n",
    "import pandas as pd\n",
    "import torch\n",
    "import torchvision.models as models\n",
    "import torchvision.transforms as transforms"
   ]
  },
  {
   "cell_type": "code",
   "execution_count": 3,
   "metadata": {},
   "outputs": [],
   "source": [
    "def get_vector(input_image):\n",
    "    image = input_image.convert(\"RGB\")  # in case input image is not in RGB format\n",
    "    img_t = transform(image)\n",
    "    batch_t = torch.unsqueeze(img_t, 0)\n",
    "    my_embedding = torch.zeros([1, 512, 1, 1])\n",
    "    return my_embedding"
   ]
  },
  {
   "cell_type": "code",
   "execution_count": 4,
   "metadata": {},
   "outputs": [],
   "source": [
    "def copy_data(my_embedding, o):\n",
    "    my_embedding.copy_(o.data)\n",
    "    h = layer.register_forward_hook(copy_data)\n",
    "    model(batch_t)\n",
    "    h.remove()\n",
    "    return my_embedding.squeeze().cpu().numpy()"
   ]
  },
  {
   "cell_type": "code",
   "execution_count": null,
   "metadata": {},
   "outputs": [],
   "source": [
    "\n",
    "model = models.resnet18(pretrained=True)\n",
    "layer = model._modules.get('avgpool')\n",
    "model.eval()\n",
    "transform = transforms.Compose([\n",
    "    transforms.Resize(256),\n",
    "    transforms.CenterCrop(224),\n",
    "    transforms.ToTensor(),\n",
    "    transforms.Normalize(\n",
    "        mean=[0.485, 0.456, 0.406],\n",
    "        std=[0.229, 0.224, 0.225]\n",
    "    )])\n",
    "im_path = 'images'\n",
    "im_names = [os.path.join(root, name)\n",
    "            for root, dirs, files in os.walk(im_path)\n",
    "            for name in files\n",
    "            if name.endswith(\".jpg\")]\n",
    "existing_images_df = pd.DataFrame([re.findall(r\"[\\w']+\", im_name)[1:3] for im_name in im_names],\n",
    "                                  columns=['cat_id', 'pid'])\n",
    "existing_images_df['impath'] = im_names\n",
    "vecs = [list(get_vector(Image.open(impath))) for _, pid, impath in existing_images_df.values]\n",
    "with open('vis/feature_vecs.tsv', 'w') as fw:\n",
    "    csv_writer = csv.writer(fw, delimiter='\\t')\n",
    "    csv_writer.writerows(vecs)"
   ]
  }
 ],
 "metadata": {
  "kernelspec": {
   "display_name": "pytorch-behavior",
   "language": "python",
   "name": "python3"
  },
  "language_info": {
   "codemirror_mode": {
    "name": "ipython",
    "version": 3
   },
   "file_extension": ".py",
   "mimetype": "text/x-python",
   "name": "python",
   "nbconvert_exporter": "python",
   "pygments_lexer": "ipython3",
   "version": "3.9.15"
  },
  "orig_nbformat": 4
 },
 "nbformat": 4,
 "nbformat_minor": 2
}
