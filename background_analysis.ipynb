{
 "cells": [
  {
   "attachments": {},
   "cell_type": "markdown",
   "metadata": {},
   "source": [
    "### Imports "
   ]
  },
  {
   "cell_type": "code",
   "execution_count": null,
   "metadata": {},
   "outputs": [],
   "source": [
    "# To get the history of ALL jupyter notebook lines that have ever been written by me --> Alexander is the best omg\n",
    "%history -g -f backup"
   ]
  },
  {
   "cell_type": "code",
   "execution_count": 3,
   "metadata": {},
   "outputs": [],
   "source": [
    "import pandas as pd\n",
    "import os\n",
    "import numpy as np\n",
    "\n",
    "from matplotlib import image as mpimg\n",
    "from matplotlib import pyplot as plt "
   ]
  },
  {
   "attachments": {},
   "cell_type": "markdown",
   "metadata": {},
   "source": [
    "## Match background to GT data"
   ]
  },
  {
   "cell_type": "code",
   "execution_count": null,
   "metadata": {},
   "outputs": [],
   "source": [
    "GT_df = pd.read_csv(\"/media1/data/beardata/GTs/2017_heads.csv\")\n",
    "background_df = pd.read_csv(\"/media1/data/beardata/background/2017_split/2017_backgrounds.csv\")\n",
    "\n",
    "names_GT = []\n",
    "names_back = []\n",
    "for i in range(len(GT_df)): \n",
    "    names_GT.append(os.path.basename(GT_df.image[i]))\n",
    "    names_back.append(background_df.filenames[i])\n",
    "\n",
    "\n",
    "print('GT length =', len(names_GT))\n",
    "\n",
    "d = [value for value in names_back if value in names_GT]\n",
    "print(\"Number of equal elements (filenames) =\", len(d))\n"
   ]
  },
  {
   "cell_type": "code",
   "execution_count": null,
   "metadata": {},
   "outputs": [],
   "source": [
    "# fast way!\n",
    "GT_df[\"background\"] = np.nan\n",
    "\n",
    "for i in range(len(GT_df)):\n",
    "    idx = background_df.filenames.to_list().index(os.path.basename(GT_df.image[i]))\n",
    "    GT_df.background[i] = background_df.background[idx]\n",
    "\n",
    "\n",
    "GT_df\n",
    "#final = GT_df.drop(\"Unnamed: 0\", axis=1)\n"
   ]
  },
  {
   "cell_type": "code",
   "execution_count": null,
   "metadata": {},
   "outputs": [],
   "source": [
    "#GT_df.to_csv(\"/media1/data/beardata/GTs/2017_heads.csv\")"
   ]
  },
  {
   "attachments": {},
   "cell_type": "markdown",
   "metadata": {},
   "source": [
    "#### Visualization"
   ]
  },
  {
   "cell_type": "code",
   "execution_count": null,
   "metadata": {},
   "outputs": [],
   "source": [
    "columns = 6\n",
    "rows = 10\n",
    "_, axs = plt.subplots(rows, columns, figsize=(20, 20))\n",
    "axs = axs.flatten()\n",
    "for idx, ax in zip(range(60), axs):\n",
    "    img = mpimg.imread(os.path.join(\"/media1/data/beardata\", GT_df.image[idx+4000]), 200)\n",
    "    ax.set_title(GT_df.background[idx+4000], fontsize=8)\n",
    "    ax.set_xticks([])\n",
    "    ax.set_yticks([])\n",
    "    ax.imshow(img)\n",
    "plt.show()"
   ]
  },
  {
   "attachments": {},
   "cell_type": "markdown",
   "metadata": {},
   "source": [
    "## Visualization of the backgrounds"
   ]
  },
  {
   "cell_type": "code",
   "execution_count": null,
   "metadata": {},
   "outputs": [],
   "source": [
    "GT_df = pd.read_csv(\"/media1/data/beardata/GTs/2017_heads.csv\")\n",
    "\n",
    "examples = [GT_df.image[idx] for idx in range(len(GT_df)) if GT_df.background[idx] == \"water\" ]\n",
    "print(len(examples))\n",
    "\n",
    "columns = 6\n",
    "rows = 7\n",
    "_, axs = plt.subplots(rows, columns, figsize=(20, 20))\n",
    "axs = axs.flatten()\n",
    "for idx, ax in zip(range(42), axs):\n",
    "    img = mpimg.imread(os.path.join(\"/media1/data/beardata\", examples[idx+500]), 200)\n",
    "    ax.set_title(\"water\", fontsize=8)\n",
    "    ax.set_xticks([])\n",
    "    ax.set_yticks([])\n",
    "    ax.imshow(img)\n",
    "plt.show()"
   ]
  },
  {
   "attachments": {},
   "cell_type": "markdown",
   "metadata": {},
   "source": [
    "## Background analysis"
   ]
  },
  {
   "attachments": {},
   "cell_type": "markdown",
   "metadata": {},
   "source": [
    "### All data (with backgrounds)"
   ]
  },
  {
   "cell_type": "code",
   "execution_count": 4,
   "metadata": {},
   "outputs": [],
   "source": [
    "df_2017 = pd.read_csv(\"/media1/data/beardata/GTs/2017_heads.csv\")\n",
    "df_2018 = pd.read_csv(\"/media1/data/beardata/GTs/2018_heads.csv\")\n",
    "df_2019 = pd.read_csv(\"/media1/data/beardata/GTs/2019_heads.csv\")\n",
    "df_2020 = pd.read_csv(\"/media1/data/beardata/GTs/2020_heads.csv\")\n",
    "df_2021 = pd.read_csv(\"/media1/data/beardata/GTs/2021_heads.csv\")"
   ]
  },
  {
   "cell_type": "code",
   "execution_count": 5,
   "metadata": {},
   "outputs": [],
   "source": [
    "backgrounds = ['grass', 'fall', 'water', 'stone']\n",
    "years = ['2017', '2018', '2019', '2020', '2021']"
   ]
  },
  {
   "attachments": {},
   "cell_type": "markdown",
   "metadata": {},
   "source": [
    "### Proportion of bears per year"
   ]
  },
  {
   "cell_type": "code",
   "execution_count": 15,
   "metadata": {},
   "outputs": [
    {
     "name": "stdout",
     "output_type": "stream",
     "text": [
      "grass\n",
      "fall\n",
      "water\n",
      "stone\n"
     ]
    },
    {
     "data": {
      "image/png": "[encoded data removed]",
      "text/plain": [
       "<Figure size 640x480 with 1 Axes>"
      ]
     },
     "metadata": {},
     "output_type": "display_data"
    }
   ],
   "source": [
    "num_backgrounds = []\n",
    "X = np.arange(5)\n",
    "\n",
    "for background in backgrounds:\n",
    "    print(background) \n",
    "    num_back_2017 = len(['hit' for i in range(len(df_2017)) if df_2017.background[i] == background])\n",
    "    num_back_2018 = len(['hit' for i in range(len(df_2017)) if df_2018.background[i] == background])\n",
    "    num_back_2019 = len(['hit' for i in range(len(df_2017)) if df_2019.background[i] == background])\n",
    "    num_back_2020 = len(['hit' for i in range(len(df_2017)) if df_2020.background[i] == background])\n",
    "    num_back_2021 = len(['hit' for i in range(len(df_2017)) if df_2021.background[i] == background])\n",
    "    num_backgrounds.append([num_back_2017, num_back_2018, num_back_2019, num_back_2020, num_back_2021])\n",
    "\n",
    "fig = plt.figure()\n",
    "ax = fig.add_axes([0,0,1,1])\n",
    "ax.bar(X - 0.3, num_backgrounds[0], color='g', width=0.2)\n",
    "ax.bar(X - 0.1, num_backgrounds[1], color='b', width=0.2)\n",
    "ax.bar(X + 0.1, num_backgrounds[2], color='c', width=0.2)\n",
    "ax.bar(X + 0.3, num_backgrounds[3], color='r', width=0.2)\n",
    "\n",
    "ax.set_xticks(X)\n",
    "ax.set_xticklabels(years)\n",
    "\n",
    "plt.legend(backgrounds, loc=4)\n",
    "plt.ylabel('Proportion')\n",
    "plt.title('Proportion of backgrounds per year')\n",
    "plt.show()"
   ]
  },
  {
   "attachments": {},
   "cell_type": "markdown",
   "metadata": {},
   "source": [
    "### Number of unique bears throughout the years"
   ]
  },
  {
   "cell_type": "code",
   "execution_count": 16,
   "metadata": {},
   "outputs": [
    {
     "name": "stdout",
     "output_type": "stream",
     "text": [
      "In 2017, there were 73 different bears\n",
      "In 2018, there were 72 different bears\n",
      "In 2019, there were 68 different bears\n",
      "In 2020, there were 56 different bears\n",
      "In 2021, there were 58 different bears\n"
     ]
    }
   ],
   "source": [
    "print(f\"In 2017, there were {len(np.unique(df_2017.id.to_list()))} different bears\")\n",
    "print(f\"In 2018, there were {len(np.unique(df_2018.id.to_list()))} different bears\")\n",
    "print(f\"In 2019, there were {len(np.unique(df_2019.id.to_list()))} different bears\")\n",
    "print(f\"In 2020, there were {len(np.unique(df_2020.id.to_list()))} different bears\")\n",
    "print(f\"In 2021, there were {len(np.unique(df_2021.id.to_list()))} different bears\")"
   ]
  },
  {
   "cell_type": "code",
   "execution_count": 17,
   "metadata": {},
   "outputs": [
    {
     "name": "stdout",
     "output_type": "stream",
     "text": [
      "[73, 72, 68, 56, 58]\n"
     ]
    },
    {
     "data": {
      "image/png": "[encoded data removed]",
      "text/plain": [
       "<Figure size 1000x400 with 1 Axes>"
      ]
     },
     "metadata": {},
     "output_type": "display_data"
    }
   ],
   "source": [
    "num_bears = [len(np.unique(df_2017.id.to_list())), len(np.unique(df_2018.id.to_list())), len(np.unique(df_2019.id.to_list())), \n",
    "             len(np.unique(df_2020.id.to_list())), len(np.unique(df_2021.id.to_list()))]\n",
    "print(num_bears)\n",
    "fig = plt.figure(figsize=(10,4))\n",
    "plt.plot(X, num_bears)\n",
    "\n",
    "yticks = np.arange(30, 80, 10)\n",
    "plt.yticks(yticks)\n",
    "plt.xticks(range(len(years)), years)\n",
    "plt.ylabel('# bears')\n",
    "plt.title('Number of distinct bears photographed per year')\n",
    "plt.show()"
   ]
  },
  {
   "cell_type": "code",
   "execution_count": null,
   "metadata": {},
   "outputs": [],
   "source": [
    "count_may = 0\n",
    "count_june = 0\n",
    "count_july = 0\n",
    "count_aug = 0\n",
    "\n",
    "gray = ['#F5F5F5', '#D3D3D3', '#A9A9A9', '#808080', '#696969', '#333333']\n",
    "blue = ['#F0F8FF', '#ADD8E6', '#87CEEB', '#00BFFF', '#1E90FF', '#0000CD']\n",
    "pale_green = '#98FB98'\n",
    "light_green = '#00FF00'\n",
    "lime_green = '#32CD32'\n",
    "green = '#008000'\n",
    "dark_green = '#006400'\n",
    "\n",
    "shades_of_green = [pale_green, light_green, lime_green, green, dark_green]\n",
    "shades_of_purple = ['#F5E1FF', '#E6B8FF', '#D7A2FF', '#C68CFF', '#B776FF']\n",
    "\n",
    "\n",
    "violet = ['thistle', 'mediumpurple', 'slateblue', 'darkorchid', 'rebeccapurple']\n",
    "green = ['palegreen', 'lightgreen', 'limegreen', 'green', 'darkgreen' ]\n",
    "gray = ['gainsboro', 'silver', 'darkgray', 'gray', 'dimgrey']\n",
    "blue = ['skyblue', 'lightblue', 'steelblue', 'deepkyblue', 'dodgerblue']\n",
    "\n",
    "colors = [violet, green, gray, blue]\n",
    "\n",
    "plt.figure()\n",
    "\n",
    "for i, background in enumerate(['fall', 'grass', 'stone', 'water']): \n",
    "    color = colors[i]\n",
    "    print(type(color))\n",
    "    \n",
    "\n",
    "    for idx, row in new.iterrows():\n",
    "        if idx[1] == '2017':\n",
    "            icolor = 0\n",
    "        if idx[1] == '2018':\n",
    "            icolor = 1\n",
    "        if idx[1] == '2019':\n",
    "            icolor = 2\n",
    "        if idx[1] == '2020':\n",
    "            icolor = 3\n",
    "        if idx[1] == '2021':\n",
    "            icolor = 4\n",
    "\n",
    "        if np.isnan(row[background]): \n",
    "            back = 0\n",
    "        else: \n",
    "            back = row[background]        \n",
    "            \n",
    "        if idx[0] == 'May':\n",
    "            plt.bar(idx[0], back, bottom=count_may, color=color[icolor], label=background)\n",
    "            count_may += back\n",
    "\n",
    "        if idx[0] == 'June':\n",
    "            plt.bar(idx[0], back, bottom=count_june, color=color[icolor], label=background)\n",
    "            count_june += back\n",
    "\n",
    "        if idx[0] == 'July':\n",
    "            plt.bar(idx[0], back, bottom=count_july, color=color[icolor], label=background)\n",
    "            count_july += back\n",
    "\n",
    "        if idx[0] == 'August':\n",
    "            plt.bar(idx[0], back, bottom=count_aug, color=color[icolor], label=background)\n",
    "            count_aug += back\n",
    "\n",
    "plt.legend()\n",
    "plt.show()"
   ]
  }
 ],
 "metadata": {
  "kernelspec": {
   "display_name": "pytorch",
   "language": "python",
   "name": "python3"
  },
  "language_info": {
   "codemirror_mode": {
    "name": "ipython",
    "version": 3
   },
   "file_extension": ".py",
   "mimetype": "text/x-python",
   "name": "python",
   "nbconvert_exporter": "python",
   "pygments_lexer": "ipython3",
   "version": "3.9.15"
  },
  "orig_nbformat": 4,
  "vscode": {
   "interpreter": {
    "hash": "27cdc9772f02c4c6a1d81459f29914db556226511e167e253389b8c575824b99"
   }
  }
 },
 "nbformat": 4,
 "nbformat_minor": 2
}
